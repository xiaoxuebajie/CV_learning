{
 "cells": [
  {
   "cell_type": "markdown",
   "metadata": {},
   "source": [
    "# 05 BP神经网络 异或问题"
   ]
  },
  {
   "cell_type": "code",
   "execution_count": 1,
   "metadata": {},
   "outputs": [],
   "source": [
    "import numpy as np"
   ]
  },
  {
   "cell_type": "code",
   "execution_count": 2,
   "metadata": {},
   "outputs": [],
   "source": [
    "# 输入数据\n",
    "X = np.array([[1,0,0],\n",
    "              [1,0,1],\n",
    "              [1,1,0],\n",
    "              [1,1,1]])\n",
    "# 标签\n",
    "Y = np.array([[0],\n",
    "              [1],\n",
    "              [1],\n",
    "              [0]])\n",
    "# 3-10-1\n",
    "# 取值范围-1到1\n",
    "V = np.random.random([3,10]) * 2 - 1\n",
    "W = np.random.random([10,1]) * 2 - 1\n",
    "# 学习率\n",
    "lr = 0.11 "
   ]
  },
  {
   "cell_type": "code",
   "execution_count": 3,
   "metadata": {},
   "outputs": [],
   "source": [
    "def sigmoid(x):\n",
    "    return 1/(1+np.exp(-x))\n",
    "\n",
    "def dsigmoid(x):\n",
    "    return x*(1-x)\n",
    "\n",
    "# 权值调整函数\n",
    "def update():\n",
    "    global V,W\n",
    "    \n",
    "    # 求每一层的输出\n",
    "    L1 = sigmoid(np.dot(X,V))\n",
    "    L2 = sigmoid(np.dot(L1,W))\n",
    "    \n",
    "    # 求每一层的学习信号\n",
    "    L2_delta = (Y-L2)*dsigmoid(L2)\n",
    "    L1_delta = L2_delta.dot(W.T)*dsigmoid(L1)\n",
    "    \n",
    "    # 求每一层权值的变化\n",
    "    delta_W = lr*L1.T.dot(L2_delta)\n",
    "    delta_V = lr*X.T.dot(L1_delta)\n",
    "    \n",
    "    # 改变权值\n",
    "    W = W + delta_W\n",
    "    V = V + delta_V"
   ]
  },
  {
   "cell_type": "code",
   "execution_count": 4,
   "metadata": {},
   "outputs": [
    {
     "name": "stdout",
     "output_type": "stream",
     "text": [
      "loss: 0.13308852436890845\n",
      "loss: 0.1196947581255916\n",
      "loss: 0.10666613905664911\n",
      "loss: 0.07270814627758448\n",
      "loss: 0.03007513963131054\n",
      "loss: 0.012101751862748086\n",
      "loss: 0.006349201117597335\n",
      "loss: 0.004010863941697727\n",
      "loss: 0.0028343249448350774\n",
      "loss: 0.002151084844884567\n",
      "loss: 0.0017135829544773508\n",
      "loss: 0.0014132426295546045\n",
      "loss: 0.0011961332989767679\n",
      "loss: 0.001032840183530082\n",
      "loss: 0.0009061161287660163\n",
      "loss: 0.0008052508992479905\n",
      "loss: 0.0007232766502684332\n",
      "loss: 0.0006554825071863474\n",
      "loss: 0.0005985790158233415\n",
      "loss: 0.0005502053078402443\n",
      "loss: 0.0005086264496870605\n"
     ]
    }
   ],
   "source": [
    "for i in range(10001):\n",
    "    # 更新权值\n",
    "    update()\n",
    "    if i%500==0:\n",
    "        # 求每一层的输出\n",
    "        L1 = sigmoid(np.dot(X,V))\n",
    "        L2 = sigmoid(np.dot(L1,W))\n",
    "        loss = np.mean(np.square(Y-L2)/2)\n",
    "        print('loss:',loss)"
   ]
  },
  {
   "cell_type": "code",
   "execution_count": 5,
   "metadata": {},
   "outputs": [
    {
     "name": "stdout",
     "output_type": "stream",
     "text": [
      "[[0.02461017]\n",
      " [0.968025  ]\n",
      " [0.96730448]\n",
      " [0.03703989]]\n"
     ]
    }
   ],
   "source": [
    "L1 = sigmoid(np.dot(X,V))\n",
    "L2 = sigmoid(np.dot(L1,W))\n",
    "print(L2)"
   ]
  },
  {
   "cell_type": "code",
   "execution_count": 6,
   "metadata": {},
   "outputs": [
    {
     "name": "stdout",
     "output_type": "stream",
     "text": [
      "0\n",
      "1\n",
      "1\n",
      "0\n"
     ]
    }
   ],
   "source": [
    "def judge(x):\n",
    "    if x>=0.5:\n",
    "        return 1\n",
    "    else:\n",
    "        return 0\n",
    "\n",
    "for i in map(judge,L2):\n",
    "    print(i)"
   ]
  }
 ],
 "metadata": {
  "kernelspec": {
   "display_name": "Python 3",
   "language": "python",
   "name": "python3"
  },
  "language_info": {
   "codemirror_mode": {
    "name": "ipython",
    "version": 3
   },
   "file_extension": ".py",
   "mimetype": "text/x-python",
   "name": "python",
   "nbconvert_exporter": "python",
   "pygments_lexer": "ipython3",
   "version": "3.6.9"
  }
 },
 "nbformat": 4,
 "nbformat_minor": 2
}

{
 "cells": [
  {
   "cell_type": "markdown",
   "metadata": {},
   "source": [
    "# 02 CNN与RNN数字识别"
   ]
  },
  {
   "cell_type": "markdown",
   "metadata": {},
   "source": [
    "### CNN应用："
   ]
  },
  {
   "cell_type": "code",
   "execution_count": 1,
   "metadata": {},
   "outputs": [
    {
     "name": "stderr",
     "output_type": "stream",
     "text": [
      "Using TensorFlow backend.\n"
     ]
    }
   ],
   "source": [
    "import numpy as np\n",
    "from keras.datasets import mnist\n",
    "from keras.utils import np_utils\n",
    "from keras.models import Sequential\n",
    "from keras.layers import Dense, Dropout, Convolution2D, MaxPooling2D, Flatten\n",
    "from keras.optimizers import Adam"
   ]
  },
  {
   "cell_type": "code",
   "execution_count": 2,
   "metadata": {},
   "outputs": [],
   "source": [
    "# 载入数据\n",
    "(x_train,y_train),(x_test,y_test) = mnist.load_data()\n",
    "# (60000,28,28)->(60000,28,28,1)\n",
    "x_train = x_train.reshape(-1,28,28,1)/255.0\n",
    "x_test = x_test.reshape(-1,28,28,1)/255.0\n",
    "# 换one hot格式\n",
    "y_train = np_utils.to_categorical(y_train,num_classes=10)\n",
    "y_test = np_utils.to_categorical(y_test,num_classes=10)"
   ]
  },
  {
   "cell_type": "code",
   "execution_count": 3,
   "metadata": {
    "scrolled": true
   },
   "outputs": [
    {
     "name": "stdout",
     "output_type": "stream",
     "text": [
      "Epoch 1/10\n",
      "60000/60000 [==============================] - 18s 297us/step - loss: 0.3490 - acc: 0.8987\n",
      "Epoch 2/10\n",
      "60000/60000 [==============================] - 15s 249us/step - loss: 0.0981 - acc: 0.9711\n",
      "Epoch 3/10\n",
      "60000/60000 [==============================] - 15s 251us/step - loss: 0.0665 - acc: 0.9797\n",
      "Epoch 4/10\n",
      "60000/60000 [==============================] - 15s 251us/step - loss: 0.0524 - acc: 0.9839\n",
      "Epoch 5/10\n",
      "60000/60000 [==============================] - 15s 249us/step - loss: 0.0424 - acc: 0.9870\n",
      "Epoch 6/10\n",
      "60000/60000 [==============================] - 15s 251us/step - loss: 0.0354 - acc: 0.9887\n",
      "Epoch 7/10\n",
      "60000/60000 [==============================] - 15s 250us/step - loss: 0.0310 - acc: 0.9897\n",
      "Epoch 8/10\n",
      "60000/60000 [==============================] - 15s 253us/step - loss: 0.0267 - acc: 0.9917\n",
      "Epoch 9/10\n",
      "60000/60000 [==============================] - 15s 245us/step - loss: 0.0244 - acc: 0.9922\n",
      "Epoch 10/10\n",
      "60000/60000 [==============================] - 15s 249us/step - loss: 0.0210 - acc: 0.9932\n",
      "10000/10000 [==============================] - 1s 103us/step\n",
      "test loss 0.021835160610810273\n",
      "test accuracy 0.9926\n"
     ]
    }
   ],
   "source": [
    "# 定义顺序模型\n",
    "model = Sequential()\n",
    "\n",
    "# 第一个卷积层\n",
    "# input_shape 输入平面\n",
    "# filters 卷积核/滤波器个数\n",
    "# kernel_size 卷积窗口大小\n",
    "# strides 步长\n",
    "# padding padding方式 same/valid\n",
    "# activation 激活函数\n",
    "model.add(Convolution2D(\n",
    "    input_shape = (28,28,1),\n",
    "    filters = 32,\n",
    "    kernel_size = 5,\n",
    "    strides = 1,\n",
    "    padding = 'same',\n",
    "    activation = 'relu'\n",
    "))\n",
    "# 第一个池化层\n",
    "model.add(MaxPooling2D(\n",
    "    pool_size = 2,\n",
    "    strides = 2,\n",
    "    padding = 'same',\n",
    "))\n",
    "# 第二个卷积层\n",
    "model.add(Convolution2D(64,5,strides=1,padding='same',activation = 'relu'))\n",
    "# 第二个池化层\n",
    "model.add(MaxPooling2D(2,2,'same'))\n",
    "# 把第二个池化层的输出扁平化为1维\n",
    "model.add(Flatten())\n",
    "# 第一个全连接层\n",
    "model.add(Dense(1024,activation = 'relu'))\n",
    "# Dropout\n",
    "model.add(Dropout(0.5))\n",
    "# 第二个全连接层\n",
    "model.add(Dense(10,activation='softmax'))\n",
    "\n",
    "# 定义优化器\n",
    "adam = Adam(lr=1e-4)\n",
    "\n",
    "# 定义优化器，loss function，训练过程中计算准确率\n",
    "model.compile(optimizer=adam,loss='categorical_crossentropy',metrics=['accuracy'])\n",
    "\n",
    "# 训练模型\n",
    "model.fit(x_train,y_train,batch_size=64,epochs=10)\n",
    "\n",
    "# 评估模型\n",
    "loss,accuracy = model.evaluate(x_test,y_test)\n",
    "\n",
    "print('test loss',loss)\n",
    "print('test accuracy',accuracy)"
   ]
  },
  {
   "cell_type": "markdown",
   "metadata": {},
   "source": [
    "### RNN应用："
   ]
  },
  {
   "cell_type": "code",
   "execution_count": 4,
   "metadata": {},
   "outputs": [],
   "source": [
    "from keras.layers.recurrent import SimpleRNN, LSTM, GRU"
   ]
  },
  {
   "cell_type": "code",
   "execution_count": 5,
   "metadata": {},
   "outputs": [],
   "source": [
    "# 数据长度--一行有28个像素\n",
    "input_size = 28\n",
    "# 序列长度--一共有28行\n",
    "time_steps = 28\n",
    "# 隐藏层cell个数\n",
    "cell_size =50\n",
    "\n",
    "# 载入数据\n",
    "(X_train, y_train), (X_test, y_test) = mnist.load_data()\n",
    "# (60000, 28, 28)\n",
    "X_train = X_train / 255.0\n",
    "X_test = X_test / 255.0\n",
    "# one hot 编码\n",
    "y_train = np_utils.to_categorical(y_train, num_classes=10)\n",
    "y_test = np_utils.to_categorical(y_test, num_classes=10)"
   ]
  },
  {
   "cell_type": "code",
   "execution_count": 6,
   "metadata": {},
   "outputs": [
    {
     "name": "stdout",
     "output_type": "stream",
     "text": [
      "Epoch 1/10\n",
      "60000/60000 [==============================] - 25s 409us/step - loss: 1.5211 - acc: 0.5310\n",
      "Epoch 2/10\n",
      "60000/60000 [==============================] - 24s 407us/step - loss: 0.8556 - acc: 0.7404\n",
      "Epoch 3/10\n",
      "60000/60000 [==============================] - 24s 403us/step - loss: 0.6467 - acc: 0.8128\n",
      "Epoch 4/10\n",
      "60000/60000 [==============================] - 24s 408us/step - loss: 0.5410 - acc: 0.8457\n",
      "Epoch 5/10\n",
      "60000/60000 [==============================] - 24s 404us/step - loss: 0.4764 - acc: 0.8636\n",
      "Epoch 6/10\n",
      "60000/60000 [==============================] - 24s 399us/step - loss: 0.4290 - acc: 0.8768\n",
      "Epoch 7/10\n",
      "60000/60000 [==============================] - 24s 405us/step - loss: 0.3933 - acc: 0.8870\n",
      "Epoch 8/10\n",
      "60000/60000 [==============================] - 24s 403us/step - loss: 0.3634 - acc: 0.8961\n",
      "Epoch 9/10\n",
      "60000/60000 [==============================] - 24s 402us/step - loss: 0.3405 - acc: 0.9012\n",
      "Epoch 10/10\n",
      "60000/60000 [==============================] - 24s 405us/step - loss: 0.3209 - acc: 0.9076\n",
      "10000/10000 [==============================] - 5s 530us/step\n",
      "test loss 0.30973891344070437\n",
      "test accuracy 0.9109\n"
     ]
    }
   ],
   "source": [
    "# 创建模型\n",
    "model = Sequential()\n",
    "\n",
    "# 循环神经网络\n",
    "model.add(SimpleRNN(\n",
    "    units = cell_size, # 输出\n",
    "    input_shape = (time_steps,input_size), #输入\n",
    "))\n",
    "\n",
    "# 输出层\n",
    "model.add(Dense(10,activation='softmax'))\n",
    "\n",
    "# 定义优化器\n",
    "adam = Adam(lr=1e-4)\n",
    "\n",
    "# 定义优化器，loss function，训练过程中计算准确率\n",
    "model.compile(optimizer=adam,loss='categorical_crossentropy',metrics=['accuracy'])\n",
    "\n",
    "# 训练模型\n",
    "model.fit(X_train,y_train,batch_size=64,epochs=10)\n",
    "\n",
    "# 评估模型\n",
    "loss,accuracy = model.evaluate(X_test,y_test)\n",
    "\n",
    "print('test loss',loss)\n",
    "print('test accuracy',accuracy)"
   ]
  }
 ],
 "metadata": {
  "kernelspec": {
   "display_name": "Python 3",
   "language": "python",
   "name": "python3"
  },
  "language_info": {
   "codemirror_mode": {
    "name": "ipython",
    "version": 3
   },
   "file_extension": ".py",
   "mimetype": "text/x-python",
   "name": "python",
   "nbconvert_exporter": "python",
   "pygments_lexer": "ipython3",
   "version": "3.6.9"
  }
 },
 "nbformat": 4,
 "nbformat_minor": 2
}

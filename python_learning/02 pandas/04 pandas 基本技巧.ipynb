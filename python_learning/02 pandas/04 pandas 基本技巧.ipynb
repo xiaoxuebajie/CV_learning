{
 "cells": [
  {
   "cell_type": "markdown",
   "metadata": {},
   "source": [
    "# 04 pandas 基本技巧"
   ]
  },
  {
   "cell_type": "markdown",
   "metadata": {},
   "source": [
    "数据查看、转置 / 添加、修改、删除值 / 对齐 / 排序"
   ]
  },
  {
   "cell_type": "markdown",
   "metadata": {},
   "source": [
    "## 基本内容"
   ]
  },
  {
   "cell_type": "code",
   "execution_count": 1,
   "metadata": {},
   "outputs": [],
   "source": [
    "# 导入numpy、pandas模块\n",
    "import numpy as np\n",
    "import pandas as pd  "
   ]
  },
  {
   "cell_type": "code",
   "execution_count": 2,
   "metadata": {},
   "outputs": [
    {
     "name": "stdout",
     "output_type": "stream",
     "text": [
      "           a          b\n",
      "0  23.667816  85.546456\n",
      "1  69.206791  68.451338\n",
      "           a          b\n",
      "3  36.175649  11.454312\n",
      "4  77.892695  19.067904\n",
      "5   9.313125  17.977894\n",
      "6  88.748446  48.234666\n",
      "7  28.820127  24.617214\n",
      "           0          1          2          3          4          5  \\\n",
      "a  23.667816  69.206791  70.318925  36.175649  77.892695   9.313125   \n",
      "b  85.546456  68.451338  24.131138  11.454312  19.067904  17.977894   \n",
      "\n",
      "           6          7  \n",
      "a  88.748446  28.820127  \n",
      "b  48.234666  24.617214  \n"
     ]
    }
   ],
   "source": [
    "# 数据查看、转置\n",
    "\n",
    "df = pd.DataFrame(np.random.rand(16).reshape(8,2)*100,\n",
    "                   columns = ['a','b'])\n",
    "print(df.head(2))\n",
    "print(df.tail())\n",
    "# .head()查看头部数据\n",
    "# .tail()查看尾部数据\n",
    "# 默认查看5条\n",
    "\n",
    "print(df.T)\n",
    "# .T 转置"
   ]
  },
  {
   "cell_type": "code",
   "execution_count": 3,
   "metadata": {},
   "outputs": [
    {
     "name": "stdout",
     "output_type": "stream",
     "text": [
      "           a          b          c          d\n",
      "0  11.883015  28.503518  23.384110  35.610315\n",
      "1  58.052459  78.688371  24.398117  83.478582\n",
      "2  45.085453  31.056277  30.149883  94.072398\n",
      "3   5.862394  71.899844  60.744144  25.910074\n",
      "           a          b          c          d   e\n",
      "0  11.883015  28.503518  23.384110  35.610315  10\n",
      "1  58.052459  78.688371  24.398117  83.478582  10\n",
      "2  45.085453  31.056277  30.149883  94.072398  10\n",
      "3   5.862394  71.899844  60.744144  25.910074  10\n",
      "4  20.000000  20.000000  20.000000  20.000000  20\n",
      "     a          b    c          d   e\n",
      "0  100  28.503518  100  35.610315  20\n",
      "1  100  78.688371  100  83.478582  20\n",
      "2  100  31.056277  100  94.072398  20\n",
      "3  100  71.899844  100  25.910074  20\n",
      "4  100  20.000000  100  20.000000  20\n"
     ]
    }
   ],
   "source": [
    "# 添加与修改\n",
    "\n",
    "df = pd.DataFrame(np.random.rand(16).reshape(4,4)*100,\n",
    "                   columns = ['a','b','c','d'])\n",
    "print(df)\n",
    "\n",
    "df['e'] = 10\n",
    "df.loc[4] = 20\n",
    "print(df)\n",
    "# 新增列/行并赋值\n",
    "\n",
    "df['e'] = 20\n",
    "df[['a','c']] = 100\n",
    "print(df)\n",
    "# 索引后直接修改值"
   ]
  },
  {
   "cell_type": "code",
   "execution_count": 4,
   "metadata": {},
   "outputs": [
    {
     "name": "stdout",
     "output_type": "stream",
     "text": [
      "           a          b          c          d\n",
      "0  20.103831  46.402110  68.629604  21.079644\n",
      "1   4.348753  69.922850  19.530231  96.098871\n",
      "2   3.528685   1.452172   2.227252  98.676276\n",
      "3  40.982567  84.836507   5.242610   1.060756\n",
      "           b          c          d\n",
      "0  46.402110  68.629604  21.079644\n",
      "1  69.922850  19.530231  96.098871\n",
      "2   1.452172   2.227252  98.676276\n",
      "3  84.836507   5.242610   1.060756\n",
      "-----\n",
      "           b          c          d\n",
      "1  69.922850  19.530231  96.098871\n",
      "2   1.452172   2.227252  98.676276\n",
      "3  84.836507   5.242610   1.060756\n",
      "           b          c          d\n",
      "0  46.402110  68.629604  21.079644\n",
      "3  84.836507   5.242610   1.060756\n",
      "           b          c          d\n",
      "0  46.402110  68.629604  21.079644\n",
      "1  69.922850  19.530231  96.098871\n",
      "2   1.452172   2.227252  98.676276\n",
      "3  84.836507   5.242610   1.060756\n",
      "-----\n",
      "           b          c\n",
      "0  46.402110  68.629604\n",
      "1  69.922850  19.530231\n",
      "2   1.452172   2.227252\n",
      "3  84.836507   5.242610\n",
      "           b          c          d\n",
      "0  46.402110  68.629604  21.079644\n",
      "1  69.922850  19.530231  96.098871\n",
      "2   1.452172   2.227252  98.676276\n",
      "3  84.836507   5.242610   1.060756\n"
     ]
    }
   ],
   "source": [
    "# 删除  del / drop()\n",
    "\n",
    "df = pd.DataFrame(np.random.rand(16).reshape(4,4)*100,\n",
    "                   columns = ['a','b','c','d'])\n",
    "print(df)\n",
    "\n",
    "del df['a']\n",
    "print(df)\n",
    "print('-----')\n",
    "# del语句 - 删除列\n",
    "\n",
    "print(df.drop(0))\n",
    "print(df.drop([1,2]))\n",
    "print(df)\n",
    "print('-----')\n",
    "# drop()删除行，inplace=False → 删除后生成新的数据，不改变原数据\n",
    "\n",
    "print(df.drop(['d'], axis = 1))\n",
    "print(df)\n",
    "# drop()删除列，需要加上axis = 1，inplace=False → 删除后生成新的数据，不改变原数据"
   ]
  },
  {
   "cell_type": "code",
   "execution_count": 5,
   "metadata": {},
   "outputs": [
    {
     "name": "stdout",
     "output_type": "stream",
     "text": [
      "          A         B         C   D\n",
      "0  1.899736  1.222988  0.419859 NaN\n",
      "1  0.103848  0.201543 -0.037905 NaN\n",
      "2 -0.116430 -2.182946  1.283301 NaN\n",
      "3 -0.369550 -1.204594 -0.331058 NaN\n",
      "4  0.122192  0.661019  1.268409 NaN\n",
      "5  3.011971  0.055914  0.083011 NaN\n",
      "6 -0.710937  0.623166 -0.591240 NaN\n",
      "7       NaN       NaN       NaN NaN\n",
      "8       NaN       NaN       NaN NaN\n",
      "9       NaN       NaN       NaN NaN\n"
     ]
    }
   ],
   "source": [
    "# 对齐\n",
    "\n",
    "df1 = pd.DataFrame(np.random.randn(10, 4), columns=['A', 'B', 'C', 'D'])\n",
    "df2 = pd.DataFrame(np.random.randn(7, 3), columns=['A', 'B', 'C'])\n",
    "print(df1 + df2)\n",
    "# DataFrame对象之间的数据自动按照列和索引（行标签）对齐"
   ]
  },
  {
   "cell_type": "code",
   "execution_count": 6,
   "metadata": {},
   "outputs": [
    {
     "name": "stdout",
     "output_type": "stream",
     "text": [
      "           a          b          c          d\n",
      "0  21.016090  54.057577  69.943746  56.493138\n",
      "1  15.455375  12.932406  79.751035  62.098635\n",
      "2  36.132841  70.221348   1.169797  66.808895\n",
      "3  91.335756  78.605851   5.284213  11.318597\n",
      "           a          b          c          d\n",
      "1  15.455375  12.932406  79.751035  62.098635\n",
      "0  21.016090  54.057577  69.943746  56.493138\n",
      "2  36.132841  70.221348   1.169797  66.808895\n",
      "3  91.335756  78.605851   5.284213  11.318597\n",
      "           a          b          c          d\n",
      "3  91.335756  78.605851   5.284213  11.318597\n",
      "2  36.132841  70.221348   1.169797  66.808895\n",
      "0  21.016090  54.057577  69.943746  56.493138\n",
      "1  15.455375  12.932406  79.751035  62.098635\n",
      "------\n",
      "   a  b  c\n",
      "0  1  0  8\n",
      "1  1  1  7\n",
      "2  1  2  6\n",
      "3  1  3  5\n",
      "4  2  4  4\n",
      "5  2  5  3\n",
      "6  2  6  2\n",
      "7  2  7  1\n",
      "   a  b  c\n",
      "3  1  3  5\n",
      "2  1  2  6\n",
      "1  1  1  7\n",
      "0  1  0  8\n",
      "7  2  7  1\n",
      "6  2  6  2\n",
      "5  2  5  3\n",
      "4  2  4  4\n"
     ]
    }
   ],
   "source": [
    "# 排序1 - 按值排序 .sort_values\n",
    "# 同样适用于Series\n",
    "\n",
    "df1 = pd.DataFrame(np.random.rand(16).reshape(4,4)*100,\n",
    "                   columns = ['a','b','c','d'])\n",
    "print(df1)\n",
    "print(df1.sort_values(['a'], ascending = True))  # 升序\n",
    "print(df1.sort_values(['a'], ascending = False))  # 降序\n",
    "print('------')\n",
    "# ascending参数：设置升序降序，默认升序\n",
    "# 单列排序\n",
    "\n",
    "df2 = pd.DataFrame({'a':[1,1,1,1,2,2,2,2],\n",
    "                  'b':list(range(8)),\n",
    "                  'c':list(range(8,0,-1))})\n",
    "print(df2)\n",
    "print(df2.sort_values(['a','c']))\n",
    "# 多列排序，按列顺序排序\n",
    "# 注意inplace参数"
   ]
  },
  {
   "cell_type": "code",
   "execution_count": 7,
   "metadata": {},
   "outputs": [
    {
     "name": "stdout",
     "output_type": "stream",
     "text": [
      "           a          b          c          d\n",
      "5   7.922366  98.715986  83.989986  35.385060\n",
      "4   8.900585  68.580206  25.971262  87.485385\n",
      "3  17.662359  19.903188  94.735508  90.181491\n",
      "2  33.961367  27.635949  48.913265  19.116330\n",
      "           a          b          c          d\n",
      "2  33.961367  27.635949  48.913265  19.116330\n",
      "3  17.662359  19.903188  94.735508  90.181491\n",
      "4   8.900585  68.580206  25.971262  87.485385\n",
      "5   7.922366  98.715986  83.989986  35.385060\n",
      "           a          b          c          d\n",
      "h  80.830840  45.999325  64.287530  15.223440\n",
      "s  57.453558  49.725231  59.111570  46.513960\n",
      "x  51.405235  15.136040  83.181867  79.350228\n",
      "g  41.715948  75.492101   2.086401  56.425668\n",
      "           a          b          c          d\n",
      "g  41.715948  75.492101   2.086401  56.425668\n",
      "h  80.830840  45.999325  64.287530  15.223440\n",
      "s  57.453558  49.725231  59.111570  46.513960\n",
      "x  51.405235  15.136040  83.181867  79.350228\n"
     ]
    }
   ],
   "source": [
    "# 排序2 - 索引排序 .sort_index\n",
    "\n",
    "df1 = pd.DataFrame(np.random.rand(16).reshape(4,4)*100,\n",
    "                  index = [5,4,3,2],\n",
    "                   columns = ['a','b','c','d'])\n",
    "df2 = pd.DataFrame(np.random.rand(16).reshape(4,4)*100,\n",
    "                  index = ['h','s','x','g'],\n",
    "                   columns = ['a','b','c','d'])\n",
    "print(df1)\n",
    "print(df1.sort_index())\n",
    "print(df2)\n",
    "print(df2.sort_index())\n",
    "# 按照index排序\n",
    "# 默认 ascending=True, inplace=False"
   ]
  },
  {
   "cell_type": "markdown",
   "metadata": {},
   "source": [
    "## 作业"
   ]
  },
  {
   "cell_type": "markdown",
   "metadata": {},
   "source": [
    "### 作业1：创建一个3*3，值在0-100区间随机值的Dataframe（如图），分别按照index和第二列值大小，降序排序\n"
   ]
  },
  {
   "cell_type": "code",
   "execution_count": 8,
   "metadata": {},
   "outputs": [
    {
     "name": "stdout",
     "output_type": "stream",
     "text": [
      "          v1         v2         v3\n",
      "a  83.479834  61.203842  23.261490\n",
      "b  35.696331  18.713394  10.902280\n",
      "c  16.897430  11.357244  41.301348\n",
      "          v1         v2         v3\n",
      "a  83.479834  61.203842  23.261490\n",
      "b  35.696331  18.713394  10.902280\n",
      "c  16.897430  11.357244  41.301348\n",
      "          v1         v2         v3\n",
      "a  83.479834  61.203842  23.261490\n",
      "b  35.696331  18.713394  10.902280\n",
      "c  16.897430  11.357244  41.301348\n"
     ]
    }
   ],
   "source": [
    "df1 = pd.DataFrame(np.random.rand(3,3)*100, columns=['v1','v2','v3'], index=['a','b','c'])\n",
    "print(df1)\n",
    "print(df1.sort_index())\n",
    "print(df1.sort_values(['v2'], ascending = False))"
   ]
  },
  {
   "cell_type": "markdown",
   "metadata": {},
   "source": [
    "### 作业2：创建一个5*2，值在0-100区间随机值的Dataframe（如图）df1，通过修改得到df2\n"
   ]
  },
  {
   "cell_type": "code",
   "execution_count": 9,
   "metadata": {},
   "outputs": [
    {
     "data": {
      "text/html": [
       "<div>\n",
       "<style scoped>\n",
       "    .dataframe tbody tr th:only-of-type {\n",
       "        vertical-align: middle;\n",
       "    }\n",
       "\n",
       "    .dataframe tbody tr th {\n",
       "        vertical-align: top;\n",
       "    }\n",
       "\n",
       "    .dataframe thead th {\n",
       "        text-align: right;\n",
       "    }\n",
       "</style>\n",
       "<table border=\"1\" class=\"dataframe\">\n",
       "  <thead>\n",
       "    <tr style=\"text-align: right;\">\n",
       "      <th></th>\n",
       "      <th>a</th>\n",
       "      <th>b</th>\n",
       "      <th>c</th>\n",
       "      <th>d</th>\n",
       "    </tr>\n",
       "  </thead>\n",
       "  <tbody>\n",
       "    <tr>\n",
       "      <th>v1</th>\n",
       "      <td>74.384132</td>\n",
       "      <td>100</td>\n",
       "      <td>25.563289</td>\n",
       "      <td>6.690713</td>\n",
       "    </tr>\n",
       "    <tr>\n",
       "      <th>v2</th>\n",
       "      <td>7.548339</td>\n",
       "      <td>100</td>\n",
       "      <td>56.105458</td>\n",
       "      <td>4.250353</td>\n",
       "    </tr>\n",
       "  </tbody>\n",
       "</table>\n",
       "</div>"
      ],
      "text/plain": [
       "            a    b          c         d\n",
       "v1  74.384132  100  25.563289  6.690713\n",
       "v2   7.548339  100  56.105458  4.250353"
      ]
     },
     "execution_count": 9,
     "metadata": {},
     "output_type": "execute_result"
    }
   ],
   "source": [
    "df1 = pd.DataFrame(np.random.rand(5,2)*100, index=['a','b','c','d','e'], columns=['v1','v2'])\n",
    "df1 = df1.T\n",
    "df1['b'] = 100\n",
    "del df1['e']\n",
    "df1"
   ]
  },
  {
   "cell_type": "markdown",
   "metadata": {},
   "source": [
    "### 作业3：如图创建Series，并按照要求修改得到结果"
   ]
  },
  {
   "cell_type": "code",
   "execution_count": 10,
   "metadata": {},
   "outputs": [
    {
     "data": {
      "text/plain": [
       "a    100\n",
       "b      1\n",
       "c      2\n",
       "d      3\n",
       "e    100\n",
       "f    100\n",
       "g      6\n",
       "h      7\n",
       "i      8\n",
       "j      9\n",
       "dtype: int32"
      ]
     },
     "execution_count": 10,
     "metadata": {},
     "output_type": "execute_result"
    }
   ],
   "source": [
    "s = pd.Series(np.arange(10),index=('a','b','c','d','e','f','g','h','i','j'))\n",
    "s.loc[['a','e','f']] = 100\n",
    "s"
   ]
  },
  {
   "cell_type": "markdown",
   "metadata": {},
   "source": [
    "### 作业4：已有s1，s2（值为0-10的随机数），请求出s1+s2的值\n",
    "* s1 = pd.Series(np.random.rand(5)*10,index = list('abcde'))\n",
    "* s2 = pd.Series(np.random.rand(5)*10,index = list('cdefg'))"
   ]
  },
  {
   "cell_type": "code",
   "execution_count": 11,
   "metadata": {},
   "outputs": [
    {
     "data": {
      "text/plain": [
       "a          NaN\n",
       "b          NaN\n",
       "c     7.372460\n",
       "d    10.877289\n",
       "e    19.445449\n",
       "f          NaN\n",
       "g          NaN\n",
       "dtype: float64"
      ]
     },
     "execution_count": 11,
     "metadata": {},
     "output_type": "execute_result"
    }
   ],
   "source": [
    "s1 = pd.Series(np.random.rand(5)*10,index = list('abcde'))\n",
    "s2 = pd.Series(np.random.rand(5)*10,index = list('cdefg'))\n",
    "s1+s2"
   ]
  }
 ],
 "metadata": {
  "kernelspec": {
   "display_name": "Python 3",
   "language": "python",
   "name": "python3"
  },
  "language_info": {
   "codemirror_mode": {
    "name": "ipython",
    "version": 3
   },
   "file_extension": ".py",
   "mimetype": "text/x-python",
   "name": "python",
   "nbconvert_exporter": "python",
   "pygments_lexer": "ipython3",
   "version": "3.6.7"
  }
 },
 "nbformat": 4,
 "nbformat_minor": 2
}

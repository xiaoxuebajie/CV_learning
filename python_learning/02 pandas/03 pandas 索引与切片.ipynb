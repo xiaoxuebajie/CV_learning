{
 "cells": [
  {
   "cell_type": "markdown",
   "metadata": {},
   "source": [
    "# 03 pandas 索引与切片"
   ]
  },
  {
   "cell_type": "markdown",
   "metadata": {},
   "source": [
    "Series和Datafram索引的原理一样，我们以Dataframe的索引为主来学习\n",
    "* 列索引：df['列名']  （Series不存在列索引）\n",
    "* 行索引：df.loc[]、df.iloc[]\n",
    "\n",
    "选择列 / 选择行 / 切片 / 布尔判断"
   ]
  },
  {
   "cell_type": "markdown",
   "metadata": {},
   "source": [
    "## 基本内容"
   ]
  },
  {
   "cell_type": "code",
   "execution_count": 1,
   "metadata": {},
   "outputs": [],
   "source": [
    "# 导入numpy、pandas模块\n",
    "import numpy as np\n",
    "import pandas as pd  "
   ]
  },
  {
   "cell_type": "code",
   "execution_count": 2,
   "metadata": {},
   "outputs": [
    {
     "name": "stdout",
     "output_type": "stream",
     "text": [
      "               a          b          c          d\n",
      "one    12.634193  93.496407  36.662714  60.106748\n",
      "two    22.072611  95.884443  37.901380  82.795216\n",
      "three  14.808302  64.478047  66.926805  64.314307\n",
      "one      12.634193\n",
      "two      22.072611\n",
      "three    14.808302\n",
      "Name: a, dtype: float64 <class 'pandas.core.series.Series'>\n",
      "               a          c\n",
      "one    12.634193  36.662714\n",
      "two    22.072611  37.901380\n",
      "three  14.808302  66.926805 <class 'pandas.core.frame.DataFrame'>\n",
      "-----\n",
      "               a          c\n",
      "one    12.634193  36.662714\n",
      "two    22.072611  37.901380\n",
      "three  14.808302  66.926805 <class 'pandas.core.series.Series'>\n",
      "a    12.634193\n",
      "b    93.496407\n",
      "c    36.662714\n",
      "d    60.106748\n",
      "Name: one, dtype: float64 <class 'pandas.core.frame.DataFrame'>\n"
     ]
    }
   ],
   "source": [
    "# 选择行与列\n",
    "\n",
    "df = pd.DataFrame(np.random.rand(12).reshape(3,4)*100,\n",
    "                   index = ['one','two','three'],\n",
    "                   columns = ['a','b','c','d'])\n",
    "print(df)\n",
    "\n",
    "data1 = df['a']\n",
    "data2 = df[['a','c']]\n",
    "print(data1,type(data1))\n",
    "print(data2,type(data2))\n",
    "print('-----')\n",
    "# 按照列名选择列，只选择一列输出Series，选择多列输出Dataframe\n",
    "\n",
    "data3 = df.loc['one']\n",
    "data4 = df.loc[['one','two']]\n",
    "print(data2,type(data3))\n",
    "print(data3,type(data4))\n",
    "# 按照index选择行，只选择一行输出Series，选择多行输出Dataframe"
   ]
  },
  {
   "cell_type": "code",
   "execution_count": 3,
   "metadata": {},
   "outputs": [
    {
     "name": "stdout",
     "output_type": "stream",
     "text": [
      "               a          b          c          d\n",
      "one    84.450163  15.219112  36.993103  44.460099\n",
      "two    92.473917  81.538257  86.991877  54.092280\n",
      "three  40.668735  72.309949  91.967261  86.336543\n",
      "-----\n",
      "one      84.450163\n",
      "two      92.473917\n",
      "three    40.668735\n",
      "Name: a, dtype: float64\n",
      "               b          c\n",
      "one    15.219112  36.993103\n",
      "two    81.538257  86.991877\n",
      "three  72.309949  91.967261\n"
     ]
    }
   ],
   "source": [
    "# df[] - 选择列\n",
    "# 一般用于选择列，也可以选择行，但不推荐，行索引用.loc与.iloc\n",
    "\n",
    "df = pd.DataFrame(np.random.rand(12).reshape(3,4)*100,\n",
    "                   index = ['one','two','three'],\n",
    "                   columns = ['a','b','c','d'])\n",
    "print(df)\n",
    "print('-----')\n",
    "\n",
    "data1 = df['a']\n",
    "data2 = df[['b','c']]  # 尝试输入 data2 = df[['b','c','e']]\n",
    "print(data1)\n",
    "print(data2)\n",
    "# df[]默认选择列，[]中写列名（所以一般数据colunms都会单独制定，不会用默认数字列名，以免和index冲突）\n",
    "# 单选列为Series，print结果为Series格式\n",
    "# 多选列为Dataframe，print结果为Dataframe格式\n",
    "\n",
    "# 核心笔记：df[col]一般用于选择列，[]中写列名"
   ]
  },
  {
   "cell_type": "code",
   "execution_count": 4,
   "metadata": {},
   "outputs": [
    {
     "name": "stdout",
     "output_type": "stream",
     "text": [
      "               a          b          c          d\n",
      "one    95.304890  18.423635  10.236637  32.413140\n",
      "two    43.900465  94.022578  55.814872  19.407220\n",
      "three  64.201565   7.961522  48.033157  51.148816\n",
      "four   75.091375  17.349770  95.434540  61.152202\n",
      "           a          b          c          d\n",
      "0  19.422867  60.435860  64.285284  72.230123\n",
      "1  76.406323  37.591003  80.527367  19.498241\n",
      "2  68.240007  17.851560  80.007644  57.157629\n",
      "3  36.856774  44.123239  37.917216  92.009729\n",
      "-----\n",
      "a    95.304890\n",
      "b    18.423635\n",
      "c    10.236637\n",
      "d    32.413140\n",
      "Name: one, dtype: float64\n",
      "a    76.406323\n",
      "b    37.591003\n",
      "c    80.527367\n",
      "d    19.498241\n",
      "Name: 1, dtype: float64\n",
      "单标签索引\n",
      "-----\n",
      "               a          b          c          d\n",
      "two    43.900465  94.022578  55.814872  19.407220\n",
      "three  64.201565   7.961522  48.033157  51.148816\n",
      "five         NaN        NaN        NaN        NaN\n",
      "           a          b          c          d\n",
      "3  36.856774  44.123239  37.917216  92.009729\n",
      "2  68.240007  17.851560  80.007644  57.157629\n",
      "1  76.406323  37.591003  80.527367  19.498241\n",
      "多标签索引\n",
      "-----\n",
      "               a          b          c          d\n",
      "one    95.304890  18.423635  10.236637  32.413140\n",
      "two    43.900465  94.022578  55.814872  19.407220\n",
      "three  64.201565   7.961522  48.033157  51.148816\n",
      "           a          b          c          d\n",
      "1  76.406323  37.591003  80.527367  19.498241\n",
      "2  68.240007  17.851560  80.007644  57.157629\n",
      "3  36.856774  44.123239  37.917216  92.009729\n",
      "切片索引\n"
     ]
    },
    {
     "name": "stderr",
     "output_type": "stream",
     "text": [
      "E:\\software\\Anaconda\\Anaconda\\envs\\Kaggle\\lib\\site-packages\\ipykernel_launcher.py:19: FutureWarning: \n",
      "Passing list-likes to .loc or [] with any missing label will raise\n",
      "KeyError in the future, you can use .reindex() as an alternative.\n",
      "\n",
      "See the documentation here:\n",
      "https://pandas.pydata.org/pandas-docs/stable/indexing.html#deprecate-loc-reindex-listlike\n"
     ]
    }
   ],
   "source": [
    "# df.loc[] - 按index选择行\n",
    "\n",
    "df1 = pd.DataFrame(np.random.rand(16).reshape(4,4)*100,\n",
    "                   index = ['one','two','three','four'],\n",
    "                   columns = ['a','b','c','d'])\n",
    "df2 = pd.DataFrame(np.random.rand(16).reshape(4,4)*100,\n",
    "                   columns = ['a','b','c','d'])\n",
    "print(df1)\n",
    "print(df2)\n",
    "print('-----')\n",
    "\n",
    "data1 = df1.loc['one']\n",
    "data2 = df2.loc[1]\n",
    "print(data1)\n",
    "print(data2)\n",
    "print('单标签索引\\n-----')\n",
    "# 单个标签索引，返回Series\n",
    "\n",
    "data3 = df1.loc[['two','three','five']]\n",
    "data4 = df2.loc[[3,2,1]]\n",
    "print(data3)\n",
    "print(data4)\n",
    "print('多标签索引\\n-----')\n",
    "# 多个标签索引，如果标签不存在，则返回NaN\n",
    "# 顺序可变\n",
    "# 这里‘five’标签不存在，所以有警告\n",
    "\n",
    "data5 = df1.loc['one':'three']\n",
    "data6 = df2.loc[1:3]\n",
    "print(data5)\n",
    "print(data6)\n",
    "print('切片索引')\n",
    "# 可以做切片对象\n",
    "# 末端包含\n",
    "\n",
    "# 核心笔记：df.loc[label]主要针对index选择行，同时支持指定index，及默认数字index"
   ]
  },
  {
   "cell_type": "code",
   "execution_count": 5,
   "metadata": {},
   "outputs": [
    {
     "name": "stdout",
     "output_type": "stream",
     "text": [
      "               a          b          c          d\n",
      "one    58.840055  98.254062  77.890416  59.993247\n",
      "two     5.621282  96.187214  69.271821  81.406214\n",
      "three  41.475712  56.470814  88.230908  54.962156\n",
      "four   36.118046  50.799300  16.532151  54.589428\n",
      "------\n",
      "a    58.840055\n",
      "b    98.254062\n",
      "c    77.890416\n",
      "d    59.993247\n",
      "Name: one, dtype: float64\n",
      "a    36.118046\n",
      "b    50.799300\n",
      "c    16.532151\n",
      "d    54.589428\n",
      "Name: four, dtype: float64\n",
      "单位置索引\n",
      "-----\n",
      "               a          b          c          d\n",
      "one    58.840055  98.254062  77.890416  59.993247\n",
      "three  41.475712  56.470814  88.230908  54.962156\n",
      "               a          b          c          d\n",
      "four   36.118046  50.799300  16.532151  54.589428\n",
      "three  41.475712  56.470814  88.230908  54.962156\n",
      "two     5.621282  96.187214  69.271821  81.406214\n",
      "多位置索引\n",
      "-----\n",
      "               a          b          c          d\n",
      "two     5.621282  96.187214  69.271821  81.406214\n",
      "three  41.475712  56.470814  88.230908  54.962156\n",
      "               a          b          c          d\n",
      "one    58.840055  98.254062  77.890416  59.993247\n",
      "three  41.475712  56.470814  88.230908  54.962156\n",
      "切片索引\n"
     ]
    }
   ],
   "source": [
    "# df.iloc[] - 按照整数位置（从轴的0到length-1）选择行\n",
    "# 类似list的索引，其顺序就是dataframe的整数位置，从0开始计\n",
    "\n",
    "df = pd.DataFrame(np.random.rand(16).reshape(4,4)*100,\n",
    "                   index = ['one','two','three','four'],\n",
    "                   columns = ['a','b','c','d'])\n",
    "print(df)\n",
    "print('------')\n",
    "\n",
    "print(df.iloc[0])\n",
    "print(df.iloc[-1])\n",
    "#print(df.iloc[4])\n",
    "print('单位置索引\\n-----')\n",
    "# 单位置索引\n",
    "# 和loc索引不同，不能索引超出数据行数的整数位置\n",
    "\n",
    "print(df.iloc[[0,2]])\n",
    "print(df.iloc[[3,2,1]])\n",
    "print('多位置索引\\n-----')\n",
    "# 多位置索引\n",
    "# 顺序可变\n",
    "\n",
    "print(df.iloc[1:3])\n",
    "print(df.iloc[::2])\n",
    "print('切片索引')\n",
    "# 切片索引\n",
    "# 末端不包含"
   ]
  },
  {
   "cell_type": "code",
   "execution_count": 6,
   "metadata": {},
   "outputs": [
    {
     "name": "stdout",
     "output_type": "stream",
     "text": [
      "               a          b          c          d\n",
      "one    20.769003  50.908020  88.648311  11.316317\n",
      "two    34.307063   9.812314  96.009126  90.397416\n",
      "three  33.634922  29.349816  69.521862  69.264198\n",
      "four   52.990856  68.245750  68.182672  46.210625\n",
      "------\n",
      "           a      b      c      d\n",
      "one    False  False  False   True\n",
      "two    False   True  False  False\n",
      "three  False  False  False  False\n",
      "four   False  False  False  False <class 'pandas.core.frame.DataFrame'>\n",
      "        a         b   c          d\n",
      "one   NaN       NaN NaN  11.316317\n",
      "two   NaN  9.812314 NaN        NaN\n",
      "three NaN       NaN NaN        NaN\n",
      "four  NaN       NaN NaN        NaN\n",
      "------\n",
      "one      False\n",
      "two      False\n",
      "three    False\n",
      "four      True\n",
      "Name: a, dtype: bool <class 'pandas.core.series.Series'>\n",
      "              a         b          c          d\n",
      "four  52.990856  68.24575  68.182672  46.210625\n",
      "------\n",
      "           a      b\n",
      "one    False   True\n",
      "two    False  False\n",
      "three  False  False\n",
      "four    True   True <class 'pandas.core.frame.DataFrame'>\n",
      "               a         b   c   d\n",
      "one          NaN  50.90802 NaN NaN\n",
      "two          NaN       NaN NaN NaN\n",
      "three        NaN       NaN NaN NaN\n",
      "four   52.990856  68.24575 NaN NaN\n",
      "------\n",
      "          a      b      c      d\n",
      "one    True  False  False   True\n",
      "three  True   True  False  False <class 'pandas.core.frame.DataFrame'>\n",
      "               a          b   c          d\n",
      "one    20.769003        NaN NaN  11.316317\n",
      "two          NaN        NaN NaN        NaN\n",
      "three  33.634922  29.349816 NaN        NaN\n",
      "four         NaN        NaN NaN        NaN\n",
      "------\n"
     ]
    }
   ],
   "source": [
    "# 布尔型索引\n",
    "# 多用于索引行\n",
    "\n",
    "df = pd.DataFrame(np.random.rand(16).reshape(4,4)*100,\n",
    "                   index = ['one','two','three','four'],\n",
    "                   columns = ['a','b','c','d'])\n",
    "print(df)\n",
    "print('------')\n",
    "\n",
    "b1 = df < 20\n",
    "print(b1,type(b1))\n",
    "print(df[b1])  # 也可以书写为 df[df < 20]\n",
    "print('------')\n",
    "# 不做索引则会对数据每个值进行判断\n",
    "# 索引结果保留 所有数据：True返回原数据，False返回值为NaN\n",
    "\n",
    "b2 = df['a'] > 50\n",
    "print(b2,type(b2))\n",
    "print(df[b2])  # 也可以书写为 df[df['a'] > 50]\n",
    "print('------')\n",
    "# 单列做判断\n",
    "# 索引结果保留 单列判断为True的行数据，包括其他列\n",
    "\n",
    "b3 = df[['a','b']] > 50\n",
    "print(b3,type(b3))\n",
    "print(df[b3])  # 也可以书写为 df[df[['a','b']] > 50]\n",
    "print('------')\n",
    "# 多列做判断\n",
    "# 索引结果保留 所有数据：True返回原数据，False返回值为NaN\n",
    "# 注意这里报错的话，更新一下pandas → conda update pandas\n",
    "\n",
    "b4 = df.loc[['one','three']] < 50\n",
    "print(b4,type(b4))\n",
    "print(df[b4])  # 也可以书写为 df[df.loc[['one','three']] < 50]\n",
    "print('------')\n",
    "# 多行做判断\n",
    "# 索引结果保留 所有数据：True返回原数据，False返回值为NaN"
   ]
  },
  {
   "cell_type": "code",
   "execution_count": 7,
   "metadata": {},
   "outputs": [
    {
     "name": "stdout",
     "output_type": "stream",
     "text": [
      "               a          b          c          d\n",
      "one    77.971428  27.936885  46.886144   2.480595\n",
      "two    10.736607  23.958914  92.610224  73.448524\n",
      "three  61.017009  71.124812  13.068016  66.986525\n",
      "four   62.164000  92.576328   2.046577  29.990892\n",
      "------\n",
      "one      77.971428\n",
      "three    61.017009\n",
      "Name: a, dtype: float64\n",
      "               b          c          d\n",
      "one    27.936885  46.886144   2.480595\n",
      "three  71.124812  13.068016  66.986525\n",
      "             a          b          c          d\n",
      "two  10.736607  23.958914  92.610224  73.448524\n"
     ]
    }
   ],
   "source": [
    "# 多重索引：比如同时索引行和列\n",
    "# 先选择列再选择行 —— 相当于对于一个数据，先筛选字段，再选择数据量\n",
    "\n",
    "df = pd.DataFrame(np.random.rand(16).reshape(4,4)*100,\n",
    "                   index = ['one','two','three','four'],\n",
    "                   columns = ['a','b','c','d'])\n",
    "print(df)\n",
    "print('------')\n",
    "\n",
    "print(df['a'].loc[['one','three']])   # 选择a列的one，three行\n",
    "print(df[['b','c','d']].iloc[::2])   # 选择b，c，d列的one，three行\n",
    "print(df[df['a'] < 50].iloc[:2])   # 选择满足判断索引的前两行数据"
   ]
  },
  {
   "cell_type": "markdown",
   "metadata": {},
   "source": [
    "### 作业"
   ]
  },
  {
   "cell_type": "markdown",
   "metadata": {},
   "source": [
    "### 作业1：如图创建Dataframe(4*4，值为0-100的随机数)，通过索引得到以下值\n",
    "* 索引得到b，c列的所有值\n",
    "* 索引得到第三第四行的数据\n",
    "* 按顺序索引得到two，one行的值\n",
    "* 索引得到大于50的值"
   ]
  },
  {
   "cell_type": "code",
   "execution_count": 8,
   "metadata": {},
   "outputs": [
    {
     "name": "stdout",
     "output_type": "stream",
     "text": [
      "               b          c\n",
      "one     8.008788   2.696108\n",
      "two    38.894329  26.906307\n",
      "three  14.350174  64.304047\n",
      "four   20.110032  22.422251\n",
      "               a          b          c          d\n",
      "three  76.444831  14.350174  64.304047  19.052063\n",
      "four   93.740696  20.110032  22.422251  77.581439\n",
      "             a          b          c          d\n",
      "two  70.897520  38.894329  26.906307   4.916327\n",
      "one  87.604831   8.008788   2.696108  74.314256\n",
      "               a   b          c          d\n",
      "one    87.604831 NaN        NaN  74.314256\n",
      "two    70.897520 NaN        NaN        NaN\n",
      "three  76.444831 NaN  64.304047        NaN\n",
      "four   93.740696 NaN        NaN  77.581439\n"
     ]
    }
   ],
   "source": [
    "df = pd.DataFrame(np.random.rand(16).reshape(4,4)*100,\n",
    "                   index = ['one','two','three','four'],\n",
    "                   columns = ['a','b','c','d'])\n",
    "print(df[['b','c']])\n",
    "print(df.iloc[['2','3']])\n",
    "print(df.loc[['two','one']])\n",
    "print(df[df > 50])"
   ]
  },
  {
   "cell_type": "markdown",
   "metadata": {},
   "source": [
    "### 作业2：创建一个Series，包含10个元素，且每个值为0-100的均匀分布随机值，index为a-j，请分别筛选出：\n",
    "* 标签为b，c的值为多少\n",
    "* Series中第4到6个值是哪些？\n",
    "* Series中大于50的值有哪些？"
   ]
  },
  {
   "cell_type": "code",
   "execution_count": 9,
   "metadata": {},
   "outputs": [
    {
     "name": "stdout",
     "output_type": "stream",
     "text": [
      "89.81389827040043\n",
      "d    62.333114\n",
      "e    83.472502\n",
      "f    30.583593\n",
      "dtype: float64\n",
      "b    89.813898\n",
      "c    82.608142\n",
      "d    62.333114\n",
      "e    83.472502\n",
      "h    54.923819\n",
      "i    94.991255\n",
      "dtype: float64 ['b', 'c', 'd', 'e', 'h', 'i']\n"
     ]
    }
   ],
   "source": [
    "ar = pd.Series(np.random.rand(10)*100,index=('a','b','c','d','e','f','g','h','i','j'))\n",
    "print(ar.loc['b'])\n",
    "print(ar.iloc[3:6])\n",
    "print(ar[ar > 50],ar[ar >50].index.tolist())"
   ]
  },
  {
   "cell_type": "code",
   "execution_count": null,
   "metadata": {},
   "outputs": [],
   "source": []
  }
 ],
 "metadata": {
  "kernelspec": {
   "display_name": "Python 3",
   "language": "python",
   "name": "python3"
  },
  "language_info": {
   "codemirror_mode": {
    "name": "ipython",
    "version": 3
   },
   "file_extension": ".py",
   "mimetype": "text/x-python",
   "name": "python",
   "nbconvert_exporter": "python",
   "pygments_lexer": "ipython3",
   "version": "3.6.7"
  }
 },
 "nbformat": 4,
 "nbformat_minor": 2
}
